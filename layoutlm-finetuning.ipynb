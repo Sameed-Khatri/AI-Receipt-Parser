{
 "cells": [
  {
   "cell_type": "code",
   "execution_count": null,
   "metadata": {
    "_cell_guid": "b1076dfc-b9ad-4769-8c92-a6c4dae69d19",
    "_uuid": "8f2839f25d086af736a60e9eeb907d3b93b6e0e5",
    "execution": {
     "iopub.execute_input": "2025-10-14T18:13:44.166743Z",
     "iopub.status.busy": "2025-10-14T18:13:44.166159Z",
     "iopub.status.idle": "2025-10-14T18:14:17.403402Z",
     "shell.execute_reply": "2025-10-14T18:14:17.402347Z",
     "shell.execute_reply.started": "2025-10-14T18:13:44.166718Z"
    },
    "trusted": true
   },
   "outputs": [],
   "source": [
    "!pip install -U transformers\n",
    "!pip install -U datasets evaluate seqeval pillow"
   ]
  },
  {
   "cell_type": "code",
   "execution_count": null,
   "metadata": {
    "execution": {
     "iopub.execute_input": "2025-10-14T18:14:17.405311Z",
     "iopub.status.busy": "2025-10-14T18:14:17.405048Z",
     "iopub.status.idle": "2025-10-14T18:14:17.409692Z",
     "shell.execute_reply": "2025-10-14T18:14:17.408883Z",
     "shell.execute_reply.started": "2025-10-14T18:14:17.405288Z"
    },
    "trusted": true
   },
   "outputs": [],
   "source": [
    "import os, json\n",
    "from pathlib import Path\n",
    "from PIL import Image"
   ]
  },
  {
   "cell_type": "code",
   "execution_count": null,
   "metadata": {
    "execution": {
     "iopub.execute_input": "2025-10-14T18:14:17.410756Z",
     "iopub.status.busy": "2025-10-14T18:14:17.410553Z",
     "iopub.status.idle": "2025-10-14T18:14:17.429684Z",
     "shell.execute_reply": "2025-10-14T18:14:17.428856Z",
     "shell.execute_reply.started": "2025-10-14T18:14:17.410742Z"
    },
    "trusted": true
   },
   "outputs": [],
   "source": [
    "def parse_boxes(file_path):\n",
    "    words, boxes = [], []\n",
    "    with open(file_path, \"r\", encoding=\"utf-8\", errors=\"ignore\") as f:\n",
    "        for line in f:\n",
    "            parts = line.strip().split(\",\", 8)\n",
    "            if len(parts) < 9:\n",
    "                continue\n",
    "            x0,y0,x1,y1,x2,y2,x3,y3 = map(int, parts[:8])\n",
    "            text = parts[8].strip()\n",
    "            words.append(text)\n",
    "            boxes.append([min(x0,x2), min(y0,y2), max(x1,x3), max(y1,y3)])\n",
    "    return words, boxes"
   ]
  },
  {
   "cell_type": "code",
   "execution_count": null,
   "metadata": {
    "execution": {
     "iopub.execute_input": "2025-10-14T18:14:17.431874Z",
     "iopub.status.busy": "2025-10-14T18:14:17.431559Z",
     "iopub.status.idle": "2025-10-14T18:14:17.447037Z",
     "shell.execute_reply": "2025-10-14T18:14:17.446330Z",
     "shell.execute_reply.started": "2025-10-14T18:14:17.431856Z"
    },
    "trusted": true
   },
   "outputs": [],
   "source": [
    "def normalize_boxes(boxes, width, height):\n",
    "    norm = []\n",
    "    for x0,y0,x1,y1 in boxes:\n",
    "        norm.append([\n",
    "            int(1000 * x0 / width),\n",
    "            int(1000 * y0 / height),\n",
    "            int(1000 * x1 / width),\n",
    "            int(1000 * y1 / height)\n",
    "        ])\n",
    "    return norm"
   ]
  },
  {
   "cell_type": "code",
   "execution_count": null,
   "metadata": {
    "execution": {
     "iopub.execute_input": "2025-10-14T18:14:17.448169Z",
     "iopub.status.busy": "2025-10-14T18:14:17.447897Z",
     "iopub.status.idle": "2025-10-14T18:14:17.465640Z",
     "shell.execute_reply": "2025-10-14T18:14:17.464885Z",
     "shell.execute_reply.started": "2025-10-14T18:14:17.448146Z"
    },
    "trusted": true
   },
   "outputs": [],
   "source": [
    "def make_jsonl(split_dir, out_file):\n",
    "    img_dir = Path(split_dir) / \"img\"\n",
    "    box_dir = Path(split_dir) / \"box\"\n",
    "    ent_dir = Path(split_dir) / \"entities\"\n",
    "    out = []\n",
    "    for img_path in img_dir.iterdir():\n",
    "        base = img_path.stem\n",
    "        box_path = box_dir / f\"{base}.txt\"\n",
    "        ent_path = ent_dir / f\"{base}.txt\"\n",
    "        if not box_path.exists() or not ent_path.exists():\n",
    "            continue\n",
    "\n",
    "        words, boxes = parse_boxes(box_path)\n",
    "        width, height = Image.open(img_path).size\n",
    "        boxes = normalize_boxes(boxes, width, height)\n",
    "        labels = [\"O\"] * len(words)\n",
    "\n",
    "        entities = json.load(open(ent_path))\n",
    "        for key, value in entities.items():\n",
    "            entity_tokens = value.replace(\",\", \" \").split()\n",
    "            entity_tokens = [t for t in entity_tokens if t.strip()]\n",
    "            if not entity_tokens:\n",
    "                continue\n",
    "                \n",
    "            for i, w in enumerate(words):\n",
    "                w_tokens = w.replace(\",\", \" \").split()\n",
    "                w_tokens = [t for t in w_tokens if t.strip()]\n",
    "                if not w_tokens:\n",
    "                    continue\n",
    "                    \n",
    "                overlap = len(set(w_tokens) & set(entity_tokens))\n",
    "                if overlap >= max(1, len(entity_tokens) // 2):\n",
    "                    labels[i] = f\"B-{key.upper()}\"\n",
    "\n",
    "        first_found_company = False\n",
    "        first_found_address = False\n",
    "        \n",
    "        for i in labels:\n",
    "            if i == \"B-COMPANY\" and first_found_company:\n",
    "                labels[i] = \"I-COMPANY\"\n",
    "            if i == \"B-ADDRESS\" and first_found_address:\n",
    "                labels[i] = \"I-ADDRESS\"\n",
    "\n",
    "        out.append({\n",
    "            \"id\": base,\n",
    "            \"image\": str(img_path),\n",
    "            \"words\": words,\n",
    "            \"boxes\": boxes,\n",
    "            \"labels\": labels\n",
    "        })\n",
    "\n",
    "    with open(out_file, \"w\") as f:\n",
    "        for item in out:\n",
    "            f.write(json.dumps(item) + \"\\n\")"
   ]
  },
  {
   "cell_type": "code",
   "execution_count": null,
   "metadata": {
    "execution": {
     "iopub.execute_input": "2025-10-14T18:14:17.466744Z",
     "iopub.status.busy": "2025-10-14T18:14:17.466385Z",
     "iopub.status.idle": "2025-10-14T18:14:43.411265Z",
     "shell.execute_reply": "2025-10-14T18:14:43.410642Z",
     "shell.execute_reply.started": "2025-10-14T18:14:17.466714Z"
    },
    "trusted": true
   },
   "outputs": [],
   "source": [
    "make_jsonl(\"/kaggle/input/recipts-data/dataset/train\", \"/kaggle/working/train.jsonl\")\n",
    "make_jsonl(\"/kaggle/input/recipts-data/dataset/test\", \"/kaggle/working/test.jsonl\")"
   ]
  },
  {
   "cell_type": "code",
   "execution_count": null,
   "metadata": {
    "execution": {
     "iopub.execute_input": "2025-10-14T18:14:43.412330Z",
     "iopub.status.busy": "2025-10-14T18:14:43.412060Z",
     "iopub.status.idle": "2025-10-14T18:14:51.950931Z",
     "shell.execute_reply": "2025-10-14T18:14:51.950158Z",
     "shell.execute_reply.started": "2025-10-14T18:14:43.412301Z"
    },
    "trusted": true
   },
   "outputs": [],
   "source": [
    "from datasets import load_dataset\n",
    "\n",
    "dataset = load_dataset('json', data_files={\n",
    "    'train': '/kaggle/working/train.jsonl',\n",
    "    'test': '/kaggle/working/test.jsonl'\n",
    "})"
   ]
  },
  {
   "cell_type": "code",
   "execution_count": null,
   "metadata": {
    "execution": {
     "iopub.execute_input": "2025-10-14T18:14:51.952015Z",
     "iopub.status.busy": "2025-10-14T18:14:51.951696Z",
     "iopub.status.idle": "2025-10-14T18:14:51.959960Z",
     "shell.execute_reply": "2025-10-14T18:14:51.959192Z",
     "shell.execute_reply.started": "2025-10-14T18:14:51.951996Z"
    },
    "trusted": true
   },
   "outputs": [],
   "source": [
    "dataset['train'][0]"
   ]
  },
  {
   "cell_type": "code",
   "execution_count": null,
   "metadata": {
    "execution": {
     "iopub.execute_input": "2025-10-14T18:14:51.960827Z",
     "iopub.status.busy": "2025-10-14T18:14:51.960622Z",
     "iopub.status.idle": "2025-10-14T18:15:21.599942Z",
     "shell.execute_reply": "2025-10-14T18:15:21.599350Z",
     "shell.execute_reply.started": "2025-10-14T18:14:51.960811Z"
    },
    "trusted": true
   },
   "outputs": [],
   "source": [
    "from transformers import LayoutLMv3Processor, LayoutLMv3ForTokenClassification\n",
    "from transformers import TrainingArguments, Trainer\n",
    "from seqeval.metrics import accuracy_score, f1_score, precision_score, recall_score"
   ]
  },
  {
   "cell_type": "code",
   "execution_count": null,
   "metadata": {
    "execution": {
     "iopub.execute_input": "2025-10-14T18:15:21.602912Z",
     "iopub.status.busy": "2025-10-14T18:15:21.602339Z",
     "iopub.status.idle": "2025-10-14T18:15:23.333564Z",
     "shell.execute_reply": "2025-10-14T18:15:23.332950Z",
     "shell.execute_reply.started": "2025-10-14T18:15:21.602890Z"
    },
    "trusted": true
   },
   "outputs": [],
   "source": [
    "processor = LayoutLMv3Processor.from_pretrained(\"microsoft/layoutlmv3-base\", apply_ocr=False)\n",
    "\n",
    "labels = sorted({l for ex in dataset['train'] for l in ex['labels']})\n",
    "id2label = {i: label for i, label in enumerate(labels)}\n",
    "label2id = {label: i for i, label in enumerate(labels)}"
   ]
  },
  {
   "cell_type": "code",
   "execution_count": null,
   "metadata": {
    "execution": {
     "iopub.execute_input": "2025-10-14T18:15:23.334434Z",
     "iopub.status.busy": "2025-10-14T18:15:23.334250Z",
     "iopub.status.idle": "2025-10-14T18:15:23.339821Z",
     "shell.execute_reply": "2025-10-14T18:15:23.338906Z",
     "shell.execute_reply.started": "2025-10-14T18:15:23.334419Z"
    },
    "trusted": true
   },
   "outputs": [],
   "source": [
    "id2label"
   ]
  },
  {
   "cell_type": "code",
   "execution_count": null,
   "metadata": {
    "execution": {
     "iopub.execute_input": "2025-10-14T18:15:23.340867Z",
     "iopub.status.busy": "2025-10-14T18:15:23.340563Z",
     "iopub.status.idle": "2025-10-14T18:15:23.367264Z",
     "shell.execute_reply": "2025-10-14T18:15:23.366557Z",
     "shell.execute_reply.started": "2025-10-14T18:15:23.340843Z"
    },
    "trusted": true
   },
   "outputs": [],
   "source": [
    "label2id"
   ]
  },
  {
   "cell_type": "code",
   "execution_count": null,
   "metadata": {
    "execution": {
     "iopub.execute_input": "2025-10-14T18:15:23.368093Z",
     "iopub.status.busy": "2025-10-14T18:15:23.367883Z",
     "iopub.status.idle": "2025-10-14T18:15:27.034428Z",
     "shell.execute_reply": "2025-10-14T18:15:27.033634Z",
     "shell.execute_reply.started": "2025-10-14T18:15:23.368072Z"
    },
    "trusted": true
   },
   "outputs": [],
   "source": [
    "model = LayoutLMv3ForTokenClassification.from_pretrained(\n",
    "    \"microsoft/layoutlmv3-base\",\n",
    "    num_labels=len(labels),\n",
    "    id2label=id2label,\n",
    "    label2id=label2id\n",
    ")"
   ]
  },
  {
   "cell_type": "code",
   "execution_count": null,
   "metadata": {
    "execution": {
     "iopub.execute_input": "2025-10-14T18:15:27.035745Z",
     "iopub.status.busy": "2025-10-14T18:15:27.035288Z",
     "iopub.status.idle": "2025-10-14T18:17:34.578425Z",
     "shell.execute_reply": "2025-10-14T18:17:34.577577Z",
     "shell.execute_reply.started": "2025-10-14T18:15:27.035725Z"
    },
    "trusted": true
   },
   "outputs": [],
   "source": [
    "def preprocess(example):\n",
    "    image = Image.open(example['image']).convert(\"RGB\")\n",
    "\n",
    "    encoding = processor(\n",
    "        image,\n",
    "        boxes=example['boxes'],\n",
    "        text=example['words'],\n",
    "        word_labels=[label2id[l] for l in example['labels']],\n",
    "        truncation=True,\n",
    "        padding=\"max_length\",\n",
    "        max_length=512,\n",
    "        return_tensors=\"pt\"\n",
    "    )\n",
    "\n",
    "    return {k: v.squeeze() for k, v in encoding.items()}\n",
    "\n",
    "encoded_dataset = dataset.map(preprocess, remove_columns=dataset['train'].column_names)"
   ]
  },
  {
   "cell_type": "code",
   "execution_count": null,
   "metadata": {
    "execution": {
     "iopub.execute_input": "2025-10-14T18:17:34.579779Z",
     "iopub.status.busy": "2025-10-14T18:17:34.579469Z",
     "iopub.status.idle": "2025-10-14T18:17:34.584079Z",
     "shell.execute_reply": "2025-10-14T18:17:34.583177Z",
     "shell.execute_reply.started": "2025-10-14T18:17:34.579752Z"
    },
    "trusted": true
   },
   "outputs": [],
   "source": [
    "import numpy as np"
   ]
  },
  {
   "cell_type": "code",
   "execution_count": null,
   "metadata": {
    "execution": {
     "iopub.execute_input": "2025-10-14T18:17:34.585269Z",
     "iopub.status.busy": "2025-10-14T18:17:34.584892Z",
     "iopub.status.idle": "2025-10-14T18:17:35.393756Z",
     "shell.execute_reply": "2025-10-14T18:17:35.393028Z",
     "shell.execute_reply.started": "2025-10-14T18:17:34.585244Z"
    },
    "trusted": true
   },
   "outputs": [],
   "source": [
    "from transformers import TrainingArguments, Trainer\n",
    "from seqeval.metrics import accuracy_score, f1_score, precision_score, recall_score\n",
    "\n",
    "def compute_metrics(pred):\n",
    "    predictions, labels = pred\n",
    "    predictions = np.argmax(predictions, axis=2)\n",
    "\n",
    "    true_predictions = [\n",
    "        [id2label[p] for (p, l) in zip(prediction, label) if l != -100]\n",
    "        for prediction, label in zip(predictions, labels)\n",
    "    ]\n",
    "    true_labels = [\n",
    "        [id2label[l] for (p, l) in zip(prediction, label) if l != -100]\n",
    "        for prediction, label in zip(predictions, labels)\n",
    "    ]\n",
    "\n",
    "    return {\n",
    "        \"precision\": precision_score(true_labels, true_predictions),\n",
    "        \"recall\": recall_score(true_labels, true_predictions),\n",
    "        \"f1\": f1_score(true_labels, true_predictions),\n",
    "        \"accuracy\": accuracy_score(true_labels, true_predictions),\n",
    "    }"
   ]
  },
  {
   "cell_type": "code",
   "execution_count": null,
   "metadata": {
    "execution": {
     "iopub.execute_input": "2025-10-14T18:18:33.435751Z",
     "iopub.status.busy": "2025-10-14T18:18:33.435093Z",
     "iopub.status.idle": "2025-10-14T18:18:33.457860Z",
     "shell.execute_reply": "2025-10-14T18:18:33.456819Z",
     "shell.execute_reply.started": "2025-10-14T18:18:33.435718Z"
    },
    "trusted": true
   },
   "outputs": [],
   "source": [
    "from huggingface_hub import login\n",
    "login()"
   ]
  },
  {
   "cell_type": "code",
   "execution_count": null,
   "metadata": {
    "execution": {
     "iopub.execute_input": "2025-10-14T18:18:53.364326Z",
     "iopub.status.busy": "2025-10-14T18:18:53.364053Z",
     "iopub.status.idle": "2025-10-14T18:18:53.398209Z",
     "shell.execute_reply": "2025-10-14T18:18:53.397383Z",
     "shell.execute_reply.started": "2025-10-14T18:18:53.364306Z"
    },
    "trusted": true
   },
   "outputs": [],
   "source": [
    "training_args = TrainingArguments(\n",
    "    output_dir=\"/kaggle/working/layoutlmv3-receipts\",\n",
    "    save_strategy=\"epoch\",\n",
    "    save_total_limit=1,\n",
    "    learning_rate=1e-5,\n",
    "    per_device_train_batch_size=2,\n",
    "    per_device_eval_batch_size=2,\n",
    "    num_train_epochs=3,\n",
    "    weight_decay=0.01,\n",
    "    logging_steps=5,\n",
    "    fp16=True,\n",
    "    disable_tqdm=False,\n",
    "    report_to=\"none\",\n",
    "    push_to_hub=True,\n",
    "    hub_model_id=\"Sameed1/smdk-layoutlmv3-receipts\",\n",
    "    hub_strategy=\"end\",\n",
    ")"
   ]
  },
  {
   "cell_type": "code",
   "execution_count": null,
   "metadata": {
    "execution": {
     "iopub.execute_input": "2025-10-14T18:18:57.115638Z",
     "iopub.status.busy": "2025-10-14T18:18:57.115337Z",
     "iopub.status.idle": "2025-10-14T18:27:25.736615Z",
     "shell.execute_reply": "2025-10-14T18:27:25.735921Z",
     "shell.execute_reply.started": "2025-10-14T18:18:57.115587Z"
    },
    "trusted": true
   },
   "outputs": [],
   "source": [
    "trainer = Trainer(\n",
    "    model=model,\n",
    "    args=training_args,\n",
    "    train_dataset=encoded_dataset[\"train\"],\n",
    "    eval_dataset=encoded_dataset[\"test\"],\n",
    "    tokenizer=processor.tokenizer,\n",
    "    compute_metrics=compute_metrics,\n",
    ")\n",
    "\n",
    "trainer.train()"
   ]
  },
  {
   "cell_type": "code",
   "execution_count": null,
   "metadata": {
    "execution": {
     "iopub.execute_input": "2025-10-14T18:27:38.246048Z",
     "iopub.status.busy": "2025-10-14T18:27:38.245374Z",
     "iopub.status.idle": "2025-10-14T18:28:38.871682Z",
     "shell.execute_reply": "2025-10-14T18:28:38.871025Z",
     "shell.execute_reply.started": "2025-10-14T18:27:38.246023Z"
    },
    "trusted": true
   },
   "outputs": [],
   "source": [
    "eval_results = trainer.evaluate()\n",
    "eval_results"
   ]
  },
  {
   "cell_type": "code",
   "execution_count": null,
   "metadata": {
    "execution": {
     "iopub.execute_input": "2025-10-14T18:33:20.502441Z",
     "iopub.status.busy": "2025-10-14T18:33:20.502151Z",
     "iopub.status.idle": "2025-10-14T18:33:20.518342Z",
     "shell.execute_reply": "2025-10-14T18:33:20.517316Z",
     "shell.execute_reply.started": "2025-10-14T18:33:20.502415Z"
    },
    "trusted": true
   },
   "outputs": [],
   "source": [
    "from huggingface_hub import login\n",
    "login()"
   ]
  },
  {
   "cell_type": "code",
   "execution_count": null,
   "metadata": {
    "collapsed": true,
    "execution": {
     "iopub.execute_input": "2025-10-14T18:32:52.065875Z",
     "iopub.status.busy": "2025-10-14T18:32:52.064761Z",
     "iopub.status.idle": "2025-10-14T18:32:52.159936Z",
     "shell.execute_reply": "2025-10-14T18:32:52.159156Z",
     "shell.execute_reply.started": "2025-10-14T18:32:52.065835Z"
    },
    "jupyter": {
     "outputs_hidden": true
    },
    "trusted": true
   },
   "outputs": [],
   "source": [
    "trained_model = LayoutLMv3ForTokenClassification.from_pretrained(\"/kaggle/working/layoutlmv3-receipts/checkpoint-471\")\n",
    "trained_model"
   ]
  },
  {
   "cell_type": "code",
   "execution_count": null,
   "metadata": {
    "execution": {
     "iopub.execute_input": "2025-10-14T18:35:48.301134Z",
     "iopub.status.busy": "2025-10-14T18:35:48.300491Z",
     "iopub.status.idle": "2025-10-14T18:35:54.390417Z",
     "shell.execute_reply": "2025-10-14T18:35:54.389854Z",
     "shell.execute_reply.started": "2025-10-14T18:35:48.301112Z"
    },
    "trusted": true
   },
   "outputs": [],
   "source": [
    "trained_model.push_to_hub(\"smdk-layoutlmv3-receipts\")\n",
    "processor.push_to_hub(\"smdk-layoutlmv3-receipts\")"
   ]
  }
 ],
 "metadata": {
  "kaggle": {
   "accelerator": "nvidiaTeslaT4",
   "dataSources": [
    {
     "datasetId": 8430023,
     "sourceId": 13300037,
     "sourceType": "datasetVersion"
    }
   ],
   "dockerImageVersionId": 31154,
   "isGpuEnabled": true,
   "isInternetEnabled": true,
   "language": "python",
   "sourceType": "notebook"
  },
  "kernelspec": {
   "display_name": "Python 3",
   "language": "python",
   "name": "python3"
  },
  "language_info": {
   "codemirror_mode": {
    "name": "ipython",
    "version": 3
   },
   "file_extension": ".py",
   "mimetype": "text/x-python",
   "name": "python",
   "nbconvert_exporter": "python",
   "pygments_lexer": "ipython3",
   "version": "3.11.13"
  }
 },
 "nbformat": 4,
 "nbformat_minor": 4
}
